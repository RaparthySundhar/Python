{
 "cells": [
  {
   "cell_type": "code",
   "execution_count": 1,
   "id": "7160fac4",
   "metadata": {},
   "outputs": [
    {
     "name": "stdout",
     "output_type": "stream",
     "text": [
      "1\n",
      "2\n",
      "4\n",
      "5\n"
     ]
    }
   ],
   "source": [
    "#1) Write a Python program that prints all the numbers from 0 to 6 except 3 and 6.\n",
    "for i in range(1,6):\n",
    "    if i%3==0:\n",
    "        continue\n",
    "    print(i)"
   ]
  },
  {
   "cell_type": "code",
   "execution_count": 2,
   "id": "d0dfd4f6",
   "metadata": {},
   "outputs": [
    {
     "name": "stdout",
     "output_type": "stream",
     "text": [
      "45\n"
     ]
    }
   ],
   "source": [
    "#2) Write a program to accept a number from a user and calculate the sum of all numbers from 1 to a given number.\n",
    "count=0\n",
    "for i in range(0,10):\n",
    "    count=count+i\n",
    "print(count)"
   ]
  },
  {
   "cell_type": "code",
   "execution_count": 3,
   "id": "94665c84",
   "metadata": {},
   "outputs": [
    {
     "name": "stdout",
     "output_type": "stream",
     "text": [
      "number :19\n",
      "19*1=19\n",
      "19*2=38\n",
      "19*3=57\n",
      "19*4=76\n",
      "19*5=95\n",
      "19*6=114\n",
      "19*7=133\n",
      "19*8=152\n",
      "19*9=171\n",
      "19*10=190\n"
     ]
    }
   ],
   "source": [
    "#3) Write a program to print multiplication table of a given number(input).\n",
    "x=int(input(\"number :\"))\n",
    "for i in range(1,11):\n",
    "        print(\"{}*{}={}\".format(x,i,x*i))"
   ]
  },
  {
   "cell_type": "code",
   "execution_count": 4,
   "id": "1db63204",
   "metadata": {},
   "outputs": [
    {
     "name": "stdout",
     "output_type": "stream",
     "text": [
      "enter a number :202925\n",
      "6\n"
     ]
    }
   ],
   "source": [
    "#4) Write a program to count the total number of digits in a number using a while loop.\n",
    "x=input(\"enter a number :\")\n",
    "count=0\n",
    "y=len(x)\n",
    "while count<y:\n",
    "    count=count+1\n",
    "print(count)"
   ]
  },
  {
   "cell_type": "code",
   "execution_count": 1,
   "id": "2b47e9fe",
   "metadata": {},
   "outputs": [
    {
     "name": "stdout",
     "output_type": "stream",
     "text": [
      "enter the number: 1\n",
      "guess a number:  2\n",
      "guess a number:  1\n",
      "well guessed\n"
     ]
    }
   ],
   "source": [
    "#5) Write a Python program to guess a number between 1 to 10\n",
    "x=int(input(\"enter the number: \"))\n",
    "y=int(input(\"guess a number:  \"))\n",
    "while x!=y:\n",
    "    y=int(input(\"guess a number:  \"))\n",
    "if x==y:\n",
    "    print(\"well guessed\")"
   ]
  },
  {
   "cell_type": "code",
   "execution_count": 2,
   "id": "cdce07c1",
   "metadata": {},
   "outputs": [
    {
     "name": "stdout",
     "output_type": "stream",
     "text": [
      "1\n",
      "2\n",
      "fizz\n",
      "4\n",
      "Buzz\n",
      "fizz\n",
      "7\n",
      "8\n",
      "fizz\n",
      "Buzz\n",
      "11\n",
      "fizz\n",
      "13\n",
      "14\n",
      "fizzbuzz\n",
      "16\n",
      "17\n",
      "fizz\n",
      "19\n",
      "Buzz\n",
      "fizz\n",
      "22\n",
      "23\n",
      "fizz\n",
      "Buzz\n",
      "26\n",
      "fizz\n",
      "28\n",
      "29\n",
      "fizzbuzz\n",
      "31\n",
      "32\n",
      "fizz\n",
      "34\n",
      "Buzz\n",
      "fizz\n",
      "37\n",
      "38\n",
      "fizz\n",
      "Buzz\n",
      "41\n",
      "fizz\n",
      "43\n",
      "44\n",
      "fizzbuzz\n",
      "46\n",
      "47\n",
      "fizz\n",
      "49\n",
      "Buzz\n",
      "fizz\n",
      "52\n",
      "53\n",
      "fizz\n",
      "Buzz\n",
      "56\n",
      "fizz\n",
      "58\n",
      "59\n",
      "fizzbuzz\n"
     ]
    }
   ],
   "source": [
    "#6) Write a Python program which iterates the integers from 1 to 60. For multiples of three print \"Fizz\" instead of the number and for the multiples of five print \"Buzz\". For numbers which are multiples of both three and five print \"FizzBuzz\".\n",
    "for x in range(1,61):\n",
    "    if x%3==0 and x%5==0:\n",
    "        print(\"fizzbuzz\")\n",
    "    elif x%3==0:\n",
    "        print(\"fizz\")\n",
    "    elif x%5==0:\n",
    "        print(\"Buzz\")\n",
    "    else:\n",
    "        print(x)"
   ]
  },
  {
   "cell_type": "code",
   "execution_count": 3,
   "id": "9d5854c8",
   "metadata": {},
   "outputs": [
    {
     "name": "stdout",
     "output_type": "stream",
     "text": [
      "enter string: sundhar123\n",
      "Total letters found : 7\n",
      "Total digits found : 3\n"
     ]
    }
   ],
   "source": [
    "#7) Write a Python program that accepts a string and calculate the number of digits and letter \n",
    "#Example: Input Python 3.2 #Output Letters 6 Digits 2\n",
    "x=input(\"enter string: \")\n",
    "total_letters=0\n",
    "total_digits=0\n",
    "for y in x:\n",
    "    if y.isalpha():\n",
    "        total_letters+=1\n",
    "    else:\n",
    "        total_digits+=1   \n",
    "print(\"Total letters found :\", total_letters)\n",
    "print(\"Total digits found :\", total_digits)"
   ]
  },
  {
   "cell_type": "code",
   "execution_count": 7,
   "id": "39ea1683",
   "metadata": {},
   "outputs": [
    {
     "name": "stdout",
     "output_type": "stream",
     "text": [
      "Type the password to check validity: Python@123\n",
      "Password is valid\n"
     ]
    }
   ],
   "source": [
    "#8) Write a Python program to check the validity of password input by users.\n",
    "#At least 1 letter between [a-z] and 1 letter between [A-Z]. \n",
    "#At least 1 number between [0-9]. \n",
    "#At least 1 character from [$#@].\n",
    "#Minimum length 6 characters.\n",
    "#Maximum length 16 character\n",
    "pwd=input(\"Type the password to check validity: \")\n",
    "lower=0\n",
    "upper=0\n",
    "number=0\n",
    "character=0\n",
    "y=0\n",
    "if len(pwd)<6 or len(pwd)>16 or pwd.isidentifier():\n",
    "    print(\"Password is invalid\")\n",
    "elif len(pwd)>=6 or len(pwd)<=16:\n",
    "    while y<len(pwd):\n",
    "        if pwd[y].isdigit():\n",
    "            number=number+1\n",
    "        elif pwd[y].isupper():\n",
    "            upper=upper+1\n",
    "        elif pwd[y].islower():\n",
    "            lower=lower+1\n",
    "        y=y+1\n",
    "    if number>=1 and upper>=1 and lower>=1:\n",
    "        print(\"Password is valid\")\n",
    "    else:\n",
    "        print(\"Password is invalid\")    "
   ]
  },
  {
   "cell_type": "code",
   "execution_count": 11,
   "id": "2361fc56",
   "metadata": {},
   "outputs": [
    {
     "name": "stdout",
     "output_type": "stream",
     "text": [
      "enter a word: sundhar\n",
      " rahdnus\n"
     ]
    }
   ],
   "source": [
    "#9) Write a program in Python to reverse a word by using while loop\n",
    "x=input(\"enter a word: \")\n",
    "l=len(x)\n",
    "y=1\n",
    "z=\" \"\n",
    "while y<=l:\n",
    "    z=z+x[l-y]\n",
    "    y=y+1\n",
    "print(z)\n"
   ]
  },
  {
   "cell_type": "code",
   "execution_count": 13,
   "id": "4b36c935",
   "metadata": {},
   "outputs": [
    {
     "name": "stdout",
     "output_type": "stream",
     "text": [
      "enter an integer1\n",
      "enter an integer1\n",
      "enter an integer1\n",
      "enter an integer1\n",
      "enter an integer1\n",
      "enter an integer1\n",
      "enter an integer1\n",
      "enter an integer1\n",
      "enter an integer1\n",
      "enter an integer1\n",
      "1.0\n"
     ]
    }
   ],
   "source": [
    "#10) Write a program which takes 10 integers as input using loop and print their average value on the screen\n",
    "a=0\n",
    "for i in range(0,10):\n",
    "    j=int(input(\"enter an integer\"))\n",
    "    a+=j\n",
    "print(a/10)"
   ]
  },
  {
   "cell_type": "code",
   "execution_count": 18,
   "id": "cedb6211",
   "metadata": {},
   "outputs": [
    {
     "name": "stdout",
     "output_type": "stream",
     "text": [
      "Type the integer: 1\n",
      "Type q to quit: 2\n",
      "Type the integer: 2\n",
      "Type q to quit: 3\n",
      "Type the integer: 4\n",
      "Type q to quit: 5\n",
      "Type the integer: 9\n",
      "Type q to quit: q\n",
      "Average of all the numbers is:  4.0\n",
      "Product of all the numbers is:  72\n"
     ]
    }
   ],
   "source": [
    "#11) Write a program which takes integer inputs from user until he/she presses “q” (Ask to press q to quit after every integer \n",
    "#input). Print average and product of all numbers.\n",
    "y=\"l\"\n",
    "product=1\n",
    "total=0\n",
    "count=0\n",
    "while y!=\"q\":      \n",
    "    m=int(input(\"Type the integer: \"))\n",
    "    product=product*m\n",
    "    total=total+m\n",
    "    count=count+1\n",
    "    y=input(\"Type q to quit: \")\n",
    "print(\"Average of all the numbers is: \",total/count)\n",
    "print(\"Product of all the numbers is: \",product)\n"
   ]
  },
  {
   "cell_type": "code",
   "execution_count": 19,
   "id": "a8c673e2",
   "metadata": {},
   "outputs": [
    {
     "name": "stdout",
     "output_type": "stream",
     "text": [
      "enter a string :python@123\n",
      "python\n"
     ]
    }
   ],
   "source": [
    "#12) Write a Python program which will remove all digits or any other characters from the string except alphabets\n",
    "#Example:\n",
    "#Input:\n",
    "#“asd12.asd22\"\n",
    "#Output:\n",
    "#'asdasd'\n",
    "x=input(\"enter a string :\")\n",
    "s=\"\"\n",
    "for a in x:\n",
    "    if a.isalpha():\n",
    "        s=s+a\n",
    "print(s)"
   ]
  },
  {
   "cell_type": "code",
   "execution_count": 20,
   "id": "db41f70a",
   "metadata": {},
   "outputs": [
    {
     "name": "stdout",
     "output_type": "stream",
     "text": [
      "20\n"
     ]
    }
   ],
   "source": [
    "#13) Write a python program to find the sum of all even numbers from 0 to 10\n",
    "count=0\n",
    "for x in range(0,10):\n",
    "    if x%2==0:\n",
    "        count=count+x\n",
    "print(count)"
   ]
  },
  {
   "cell_type": "code",
   "execution_count": 21,
   "id": "5cf21c0f",
   "metadata": {},
   "outputs": [
    {
     "name": "stdout",
     "output_type": "stream",
     "text": [
      "enter a digit: 10\n",
      "9\n",
      "8\n",
      "7\n",
      "6\n",
      "5\n",
      "4\n",
      "3\n",
      "2\n",
      "1\n",
      "0\n"
     ]
    }
   ],
   "source": [
    "#14) Write a python program which will accept a digit and print All the numbers before it till 0\n",
    "#Example:\n",
    "#Input: \n",
    "#5\n",
    "#Output:\n",
    "#4\n",
    "#3\n",
    "#2\n",
    "#1\n",
    "#0\n",
    "x=int(input(\"enter a digit: \"))\n",
    "for y in range(1,x+1):\n",
    "    print(x-y) "
   ]
  },
  {
   "cell_type": "code",
   "execution_count": 23,
   "id": "f562d937",
   "metadata": {},
   "outputs": [
    {
     "name": "stdout",
     "output_type": "stream",
     "text": [
      "enter x value: 10\n",
      "enter symbol or c to exit:-\n",
      "enter y value: 5\n",
      "sub of x and y is 10-5=5\n",
      "enter x value: 10\n",
      "enter symbol or c to exit:c\n",
      "enter y value: 10\n",
      "symbol not found or c to exit\n"
     ]
    }
   ],
   "source": [
    "#15) Create a dynamic calculator which will run continually till you press “c\"\n",
    "a=\"k\"\n",
    "while a!=\"c\":\n",
    "    x=int(input(\"enter x value: \"))\n",
    "    a=input(\"enter symbol or c to exit:\")\n",
    "    y=int(input(\"enter y value: \"))\n",
    "    if a==\"+\":\n",
    "        print(\"addition of x and y is {}+{}={}\".format(x,y,x+y))\n",
    "    elif a==\"-\":\n",
    "        print(\"sub of x and y is {}-{}={}\".format(x,y,x-y))\n",
    "    elif a==\"*\":\n",
    "        print(\"mult of x and y is {}*{}={}\".format(x,y,x*y))\n",
    "    elif a==\"%\":\n",
    "        print(\"rem of x and y is {}%{}={}\".format(x,y,x%y))\n",
    "    elif a==\"/\":\n",
    "        print(\"qua of x and y is {}/{}={}\".format(x,y,x/y))\n",
    "    else:\n",
    "        print(\"symbol not found or c to exit\")"
   ]
  },
  {
   "cell_type": "code",
   "execution_count": null,
   "id": "0435650e",
   "metadata": {},
   "outputs": [],
   "source": []
  }
 ],
 "metadata": {
  "kernelspec": {
   "display_name": "Python 3 (ipykernel)",
   "language": "python",
   "name": "python3"
  },
  "language_info": {
   "codemirror_mode": {
    "name": "ipython",
    "version": 3
   },
   "file_extension": ".py",
   "mimetype": "text/x-python",
   "name": "python",
   "nbconvert_exporter": "python",
   "pygments_lexer": "ipython3",
   "version": "3.9.13"
  }
 },
 "nbformat": 4,
 "nbformat_minor": 5
}
