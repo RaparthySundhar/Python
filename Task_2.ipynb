{
 "cells": [
  {
   "cell_type": "code",
   "execution_count": 1,
   "id": "3dcb05cd",
   "metadata": {},
   "outputs": [
    {
     "name": "stdout",
     "output_type": "stream",
     "text": [
      "enter a value :10\n",
      "enter b value :2\n",
      "multiplication of a and b is : 20\n",
      "division of a and b is : 5.0\n"
     ]
    }
   ],
   "source": [
    "#1)program to accept two numbers from the user and calculate multiplication, division\n",
    "a=int(input(\"enter a value :\"))\n",
    "b=int(input(\"enter b value :\"))\n",
    "print(\"multiplication of a and b is :\",a*b)\n",
    "print(\"division of a and b is :\",a/b)"
   ]
  },
  {
   "cell_type": "code",
   "execution_count": 14,
   "id": "497eab1a",
   "metadata": {},
   "outputs": [
    {
     "name": "stdout",
     "output_type": "stream",
     "text": [
      "Give Input : python\n",
      "p\n",
      "t\n",
      "o\n"
     ]
    }
   ],
   "source": [
    "#2)python program to print the characters from a string that are present at an even index\n",
    "str1=input(\"Give Input : \")\n",
    "for i in range(len(str1)):\n",
    "    if i%2==0:\n",
    "        print(str1[i])"
   ]
  },
  {
   "cell_type": "code",
   "execution_count": 15,
   "id": "fe0cbec4",
   "metadata": {},
   "outputs": [
    {
     "name": "stdout",
     "output_type": "stream",
     "text": [
      "Give Input : python\n",
      "y\n",
      "h\n",
      "n\n"
     ]
    }
   ],
   "source": [
    "#3)python program to print the characters from a string that are present at an odd index\n",
    "str1=input(\"Give Input : \")\n",
    "for i in range(len(str1)):\n",
    "    if i%2!=0:\n",
    "        print(str1[i])"
   ]
  },
  {
   "cell_type": "code",
   "execution_count": 18,
   "id": "36fd7156",
   "metadata": {},
   "outputs": [
    {
     "name": "stdout",
     "output_type": "stream",
     "text": [
      "enter a value :4\n",
      "eneter b value :3\n",
      "difference of a and b is : 1\n"
     ]
    }
   ],
   "source": [
    " #4)python program which will print the sum of the two numbers if the two numbers are even or it will print the difference of two numbers\n",
    "a=int(input(\"enter a value :\"))\n",
    "b=int(input(\"eneter b value :\"))\n",
    "if a%2==0 and b%2==0:\n",
    "    print(\"sum of a and b is :\",a+b)\n",
    "else:\n",
    "    print(\"difference of a and b is :\",a-b)"
   ]
  },
  {
   "cell_type": "code",
   "execution_count": 21,
   "id": "bb329202",
   "metadata": {},
   "outputs": [
    {
     "name": "stdout",
     "output_type": "stream",
     "text": [
      "Give Input : data science\n",
      "D\n",
      "a\n",
      "T\n",
      "a\n",
      " \n",
      "s\n",
      "C\n",
      "i\n",
      "E\n",
      "n\n",
      "C\n",
      "e\n"
     ]
    }
   ],
   "source": [
    "#5)python program to convert all even indexed alphabets to upper and odd indexed char\n",
    "str1=input(\"Give Input : \")\n",
    "for i in range(len(str1)):\n",
    "    if i%2==0:\n",
    "        print(str1[i].upper())\n",
    "    elif i%2!=0:\n",
    "        print(str1[i])\n",
    "        "
   ]
  },
  {
   "cell_type": "code",
   "execution_count": 22,
   "id": "180683f4",
   "metadata": {},
   "outputs": [
    {
     "name": "stdout",
     "output_type": "stream",
     "text": [
      "give a number :10\n",
      "True\n"
     ]
    }
   ],
   "source": [
    "#6)python program which will print True if the input number is divisible by 5 or else False\n",
    "number=int(input(\"give a number :\"))\n",
    "if number%5==0:\n",
    "    print(\"True\")\n",
    "else:\n",
    "    print(\"False\")"
   ]
  },
  {
   "cell_type": "code",
   "execution_count": 24,
   "id": "30420b53",
   "metadata": {},
   "outputs": [
    {
     "name": "stdout",
     "output_type": "stream",
     "text": [
      "give a value :100\n",
      "give b value :100\n",
      "product of a and b is : 10000\n"
     ]
    }
   ],
   "source": [
    "#7)Given two integer numbers return their product only if the product is greater than 1000, else return their sum\n",
    "a=int(input(\"give a value :\"))\n",
    "b=int(input(\"give b value :\"))\n",
    "if a*b>1000:\n",
    "    print(\"product of a and b is :\",a*b)\n",
    "else:\n",
    "    print(\"sum of a and b is :\",a+b)"
   ]
  },
  {
   "cell_type": "code",
   "execution_count": 1,
   "id": "2d62a20f",
   "metadata": {},
   "outputs": [
    {
     "name": "stdout",
     "output_type": "stream",
     "text": [
      "Give Input :pytho\n",
      "Give Input :javas\n",
      "pjtvos\n"
     ]
    }
   ],
   "source": [
    "#8)Given two strings x, y writes a program to return a new string made of x and y’s first, middle, and last characters\n",
    "x=input(\"Give Input :\")\n",
    "y=input(\"Give Input :\")\n",
    "z=\"\"\n",
    "z=z+x[0]+y[0]+x[len(x)//2]+y[len(y)//2]+x[-1]+y[-1]\n",
    "print(z)"
   ]
  },
  {
   "cell_type": "code",
   "execution_count": 3,
   "id": "36566ae2",
   "metadata": {},
   "outputs": [
    {
     "name": "stdout",
     "output_type": "stream",
     "text": [
      "enter the names :ram laxman sitha\n",
      "name1 : ram\n",
      "name2 : laxman\n",
      "name3 : sitha\n"
     ]
    }
   ],
   "source": [
    "#9)python program to take three names as inputfrom a user in the single input () function call\n",
    "a=input(\"enter the names :\")\n",
    "b=a.split()\n",
    "for i in b:\n",
    "    print(\"name1 :\",b[0])\n",
    "    print(\"name2 :\",b[1])\n",
    "    print(\"name3 :\",b[2])\n",
    "    break"
   ]
  },
  {
   "cell_type": "code",
   "execution_count": 4,
   "id": "36b770c9",
   "metadata": {},
   "outputs": [
    {
     "name": "stdout",
     "output_type": "stream",
     "text": [
      "Type the string: malayalam\n",
      "malayala@\n"
     ]
    }
   ],
   "source": [
    "#10)a Python program to get a string from a given string where all occurrences of its first char have been changed to '@', except the first char itself.\n",
    "str1=input(\"Type the string: \")\n",
    "x=str1[0]\n",
    "print(str1[0]+str1[1:].replace(x,\"@\"))"
   ]
  },
  {
   "cell_type": "code",
   "execution_count": 14,
   "id": "fd54f83a",
   "metadata": {},
   "outputs": [
    {
     "name": "stdout",
     "output_type": "stream",
     "text": [
      "Give a string: eating\n",
      "eatly\n"
     ]
    }
   ],
   "source": [
    "#11)a Python program to add 'ing' at the end of a given string (string length should be equal to or more than 3). If the given string already ends with 'ing' then add 'ly' instead. If the string length of the given string is less than 3, leave it unchanged\n",
    "x=input(\"Give a string: \")\n",
    "y=\"\"\n",
    "if len(x)>=3 and x[-3:]==\"ing\":\n",
    "    y=x[:-3]+\"ly\"\n",
    "    print(y)\n",
    "elif len(x)<3:\n",
    "    print(x)\n",
    "else:\n",
    "    y=x+\"ing\"\n",
    "    print(y)"
   ]
  },
  {
   "cell_type": "code",
   "execution_count": 28,
   "id": "d8b162df",
   "metadata": {},
   "outputs": [
    {
     "name": "stdout",
     "output_type": "stream",
     "text": [
      "enter num1 value :30\n",
      "enter num2 value :40\n",
      "False\n"
     ]
    }
   ],
   "source": [
    "#12)python program that accepts two inputs num1 and num2 print True if one of them is 10 or if their sum is 10 otherwise print False\n",
    "num1=int(input(\"enter num1 valuqe :\"))\n",
    "num2=int(input(\"enter num2 value :\"))\n",
    "if num1==10 and num2==10 or num1+num2==10:\n",
    "    print(\"True\")\n",
    "else:\n",
    "    print(\"False\")"
   ]
  },
  {
   "cell_type": "code",
   "execution_count": 31,
   "id": "4a81a5e7",
   "metadata": {},
   "outputs": [
    {
     "name": "stdout",
     "output_type": "stream",
     "text": [
      "give x value :10\n",
      "give y value :20\n",
      "give z value :200\n",
      "False\n"
     ]
    }
   ],
   "source": [
    "#13)python program that accepts three inputs x, y and z print True if x*y>z otherwise False\n",
    "x=int(input(\"give x value :\"))\n",
    "y=int(input(\"give y value :\"))\n",
    "z=int(input(\"give z value :\"))\n",
    "if x*y>z:\n",
    "    print(\"True\")\n",
    "else:\n",
    "    print(\"False\")"
   ]
  },
  {
   "cell_type": "code",
   "execution_count": 35,
   "id": "0c34b994",
   "metadata": {},
   "outputs": [
    {
     "name": "stdout",
     "output_type": "stream",
     "text": [
      "give string1 :sai\n",
      "give string2 :sundhar\n",
      "False\n"
     ]
    }
   ],
   "source": [
    "#14)python program that accepts two strings inputs return True depending on whether the total number of characters in the first string is equal to the total number of characters in the second string\n",
    "string1=input(\"give string1 :\")\n",
    "string2=input(\"give string2 :\")\n",
    "if len(string1)==len(string2):\n",
    "    print(\"True\")\n",
    "else:\n",
    "    print(\"False\")"
   ]
  },
  {
   "cell_type": "code",
   "execution_count": 20,
   "id": "aea4b6c8",
   "metadata": {},
   "outputs": [
    {
     "name": "stdout",
     "output_type": "stream",
     "text": [
      "Give string :on\n",
      "ononon\n"
     ]
    }
   ],
   "source": [
    "#15) python program that takes a string input, we'll say that the front is the first three characters of the string. If the string length is less than three characters, the front is whatever is there. Return a new string, which is three copies of the front\n",
    "x=input(\"Give string :\")\n",
    "y=\"\"\n",
    "if len(x)<3:\n",
    "    y=x+x+x\n",
    "elif len(x)>=3:\n",
    "    y=x[:3]\n",
    "print(y)"
   ]
  },
  {
   "cell_type": "code",
   "execution_count": 22,
   "id": "e7451485",
   "metadata": {},
   "outputs": [
    {
     "name": "stdout",
     "output_type": "stream",
     "text": [
      "Give Word :pen\n",
      "The word is not plural\n"
     ]
    }
   ],
   "source": [
    "#16)python program that takes in a word and determines whether or not it is plural. A plural word is one that ends in \"s\".\n",
    "x=input(\"Give Word :\")\n",
    "if x[-1]==\"s\":\n",
    "    print(\"The word is plural\")\n",
    "else:\n",
    "    print(\"The word is not plural\")"
   ]
  },
  {
   "cell_type": "code",
   "execution_count": 28,
   "id": "6aea708c",
   "metadata": {},
   "outputs": [
    {
     "name": "stdout",
     "output_type": "stream",
     "text": [
      "Is bartender on break(yes/no) : no\n",
      "Age of the customer : 18\n",
      "Bartender should serve drinks\n"
     ]
    }
   ],
   "source": [
    "#17) A bartender is writing a simple program to determine whether he should serve drinks to someone. He only serves drinks to people 18 and older and when he's not on break (True means break and False means not a break time). Given the person's age, and whether break time is in session, create a python program which prints whether he should serve drinks or not.\n",
    "x=input(\"Is bartender on break(yes/no) : \")\n",
    "if x==\"yes\":\n",
    "    print(\"Bartender should not serve drinks\")\n",
    "elif x==\"no\":\n",
    "    y=int(input(\"Age of the customer : \"))\n",
    "    if y>=18:\n",
    "        print(\"Bartender should serve drinks\")\n",
    "    else:\n",
    "        print(\"Bartender should not serve drinks\")\n",
    "else:\n",
    "    print(\"provide valid details\")"
   ]
  },
  {
   "cell_type": "code",
   "execution_count": 23,
   "id": "41609949",
   "metadata": {},
   "outputs": [
    {
     "name": "stdout",
     "output_type": "stream",
     "text": [
      "Tell me your name :tarun\n",
      "Brother\n"
     ]
    }
   ],
   "source": [
    "#18)Manoj Kumar has family and friends. Help him remind them who is who. Given a string with a name, return the relation of that person to Manoj Kumar.\n",
    "name=input(\"Tell me your name :\")\n",
    "if name==\"shiva\":\n",
    "    print(\"Father\")\n",
    "elif name==\"letha\":\n",
    "    print(\"Mother\")\n",
    "elif name==\"tarun\":\n",
    "    print(\"Brother\")\n",
    "else:\n",
    "    print(\"Did not recognize\")"
   ]
  },
  {
   "cell_type": "code",
   "execution_count": 27,
   "id": "f5fcce87",
   "metadata": {},
   "outputs": [
    {
     "name": "stdout",
     "output_type": "stream",
     "text": [
      "sundhar\n",
      "uasndhr\n"
     ]
    }
   ],
   "source": [
    "#19) python program that takes a string, breaks it up and returns it with vowels first, consonants second. For any character that's not a vowel (like special characters or spaces), treat them like consonants\n",
    "string=input()\n",
    "x=[\"a\",\"e\",\"i\",\"o\",\"u\"]\n",
    "y=\"\"\n",
    "z=\"\"\n",
    "for i in string:\n",
    "    if i in x:\n",
    "        y=y+i\n",
    "    else:\n",
    "        z=z+i\n",
    "print(y+z)"
   ]
  },
  {
   "cell_type": "code",
   "execution_count": 43,
   "id": "bb0ad215",
   "metadata": {},
   "outputs": [
    {
     "name": "stdout",
     "output_type": "stream",
     "text": [
      "enter x value:10\n",
      "enter symbol:**\n",
      "enter y value:3\n",
      "power of x and y is 10**3=1000\n"
     ]
    }
   ],
   "source": [
    "#20)Create a dynamic calculator which asks for numbers and operator and return the answers\n",
    "x=int(input(\"enter x value:\"))\n",
    "symbol=(input(\"enter symbol:\"))\n",
    "y=int(input(\"enter y value:\"))\n",
    "if symbol==\"+\":\n",
    "    print(\"addition of x and y is {}+{}={}\".format(x,y,x+y))\n",
    "elif symbol==\"-\":\n",
    "    print(\"subtraction of x and y is {}-{}={}\".format(x,y,x-y))\n",
    "elif symbol==\"*\":\n",
    "    print(\"multiplication of x and y is {}*{}={}\".format(x,y,x*y))\n",
    "elif symbol==\"%\":\n",
    "    print(\"remainder of x and y is {}%{}={}\".format(x,y,x%y))\n",
    "elif symbol==\"/\":\n",
    "    print(\"quotient of x and y is {}/{}={}\".format(x,y,x/y))\n",
    "elif symbol==\"**\":\n",
    "    print(\"power of x and y is {}**{}={}\".format(x,y,x**y))\n",
    "else:\n",
    "    print(\"symbol not found\")"
   ]
  },
  {
   "cell_type": "code",
   "execution_count": null,
   "id": "d7d73b0a",
   "metadata": {},
   "outputs": [],
   "source": []
  }
 ],
 "metadata": {
  "kernelspec": {
   "display_name": "Python 3 (ipykernel)",
   "language": "python",
   "name": "python3"
  },
  "language_info": {
   "codemirror_mode": {
    "name": "ipython",
    "version": 3
   },
   "file_extension": ".py",
   "mimetype": "text/x-python",
   "name": "python",
   "nbconvert_exporter": "python",
   "pygments_lexer": "ipython3",
   "version": "3.9.13"
  }
 },
 "nbformat": 4,
 "nbformat_minor": 5
}
