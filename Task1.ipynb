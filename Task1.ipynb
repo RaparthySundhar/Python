{
 "cells": [
  {
   "cell_type": "code",
   "execution_count": 1,
   "id": "636ea4b9",
   "metadata": {},
   "outputs": [
    {
     "name": "stdout",
     "output_type": "stream",
     "text": [
      "Enter String : SUNDHAR\n"
     ]
    },
    {
     "data": {
      "text/plain": [
       "'sundhar'"
      ]
     },
     "execution_count": 1,
     "metadata": {},
     "output_type": "execute_result"
    }
   ],
   "source": [
    "#Python Program To Convert A String To Lower Case\n",
    "string1=input(\"Enter String : \")\n",
    "string1.lower()"
   ]
  },
  {
   "cell_type": "code",
   "execution_count": 16,
   "id": "6a2388c5",
   "metadata": {},
   "outputs": [
    {
     "name": "stdout",
     "output_type": "stream",
     "text": [
      "Give Input : PYTHON\n",
      "PyThOn\n"
     ]
    }
   ],
   "source": [
    "#Python Program To Convert Only Odd Indexing Character to lower case\n",
    "str1=input(\"Give Input : \")\n",
    "str2=\"\"\n",
    "for i in range(len(str1)):\n",
    "    if i%2==0:\n",
    "        str2=str2+str1[i].upper()\n",
    "    else:\n",
    "        str2=str2+str1[i].lower()\n",
    "print(str2)"
   ]
  },
  {
   "cell_type": "code",
   "execution_count": 17,
   "id": "1be0145d",
   "metadata": {},
   "outputs": [
    {
     "name": "stdout",
     "output_type": "stream",
     "text": [
      "Give Input : PYTHON\n",
      "pYtHoN\n"
     ]
    }
   ],
   "source": [
    "#Python Program To Convert Only Even Indexing Character to lower case\n",
    "str1=input(\"Give Input : \")\n",
    "str2=\"\"\n",
    "for i in range(len(str1)):\n",
    "    if i%2!=0:\n",
    "        str2=str2+str1[i].upper()\n",
    "    else:\n",
    "        str2=str2+str1[i].lower()\n",
    "print(str2)"
   ]
  },
  {
   "cell_type": "code",
   "execution_count": 18,
   "id": "b7839da6",
   "metadata": {},
   "outputs": [
    {
     "name": "stdout",
     "output_type": "stream",
     "text": [
      "Give Input : SUNDHAR\n",
      "sUnDhAr\n"
     ]
    }
   ],
   "source": [
    "#Python Program To Convert Only Odd Indexing Character to Upper case\n",
    "str1=input(\"Give Input : \")\n",
    "str2=\"\"\n",
    "for i in range(len(str1)):\n",
    "    if i%2==0:\n",
    "        str2=str2+str1[i].lower()\n",
    "    else:\n",
    "        str2=str2+str1[i].upper()\n",
    "print(str2)"
   ]
  },
  {
   "cell_type": "code",
   "execution_count": 19,
   "id": "86a3ca38",
   "metadata": {},
   "outputs": [
    {
     "name": "stdout",
     "output_type": "stream",
     "text": [
      "Give Input : SUNDHAR\n",
      "SuNdHaR\n"
     ]
    }
   ],
   "source": [
    "#Python Program To Convert Only Even Indexing Character to Upper case\n",
    "str1=input(\"Give Input : \")\n",
    "str2=\"\"\n",
    "for i in range(len(str1)):\n",
    "    if i%2==0:\n",
    "        str2=str2+str1[i].upper()\n",
    "    else:\n",
    "        str2=str2+str1[i].lower()\n",
    "print(str2)"
   ]
  },
  {
   "cell_type": "code",
   "execution_count": 11,
   "id": "3101a303",
   "metadata": {},
   "outputs": [
    {
     "name": "stdout",
     "output_type": "stream",
     "text": [
      "Enter Your Name : Sundhar\n",
      "Enter Your Gender : M\n",
      "Enter Your Age : 23\n",
      "Enter Phone Number : 9898989898\n",
      "Enter Father Name : Chandra Mouli\n",
      "Enter Motherer Name : Kavitha\n",
      "My Name is Sundhar,Gender M,My Age is 23,Phone Number is 9898989898,Father Name is Chandra Mouli,Mother Name is Kavitha\n"
     ]
    }
   ],
   "source": [
    "#BIO DATA Program\n",
    "name=input(\"Enter Your Name : \")\n",
    "gender=input(\"Enter Your Gender : \")\n",
    "age=int(input(\"Enter Your Age : \"))\n",
    "phone_no=int(input(\"Enter Phone Number : \"))\n",
    "father_name=input(\"Enter Father Name : \")\n",
    "mother_name=input(\"Enter Motherer Name : \")\n",
    "bio_data=\"My Name is {},Gender {},My Age is {},Phone Number is {},Father Name is {},Mother Name is {}\"\n",
    "BIO_DATA=bio_data.format(name,gender,age,phone_no,father_name,mother_name)\n",
    "print(BIO_DATA)"
   ]
  },
  {
   "cell_type": "code",
   "execution_count": 13,
   "id": "400b15aa",
   "metadata": {},
   "outputs": [
    {
     "name": "stdout",
     "output_type": "stream",
     "text": [
      "4\n"
     ]
    }
   ],
   "source": [
    "#Program To Count How many Times @ Occurred\n",
    "s=\"name1.@gmail.com,name2.@gmail.com,name3.@gmail.com,name4.@gmail.com\"\n",
    "t=s.count(\"@\")\n",
    "print(t)"
   ]
  },
  {
   "cell_type": "code",
   "execution_count": 3,
   "id": "05e3ac19",
   "metadata": {},
   "outputs": [
    {
     "name": "stdout",
     "output_type": "stream",
     "text": [
      "name1,name2,name3\n"
     ]
    }
   ],
   "source": [
    "#python program to get only names from the string\n",
    "x=\"name1.@gmail.com,name2.@gmail.com,name3.@gmail.com\" \n",
    "y=x.split(\".@gmail.com\")\n",
    "z=\"\".join(y)\n",
    "print(z)"
   ]
  },
  {
   "cell_type": "code",
   "execution_count": null,
   "id": "d727de78",
   "metadata": {},
   "outputs": [],
   "source": []
  },
  {
   "cell_type": "code",
   "execution_count": 5,
   "id": "149cf6b2",
   "metadata": {},
   "outputs": [
    {
     "name": "stdout",
     "output_type": "stream",
     "text": [
      "msayn\n"
     ]
    }
   ],
   "source": [
    "#python program to insert a 2nd string in the middle of 1st\n",
    "\\string\n",
    "str1=\"myn\"\n",
    "str2=\"sa\"\n",
    "str3=str1[0]+str2[0:2]+str1[1:3]\n",
    "print(str3)"
   ]
  },
  {
   "cell_type": "code",
   "execution_count": 6,
   "id": "a40b893a",
   "metadata": {},
   "outputs": [
    {
     "name": "stdout",
     "output_type": "stream",
     "text": [
      "bcdfghjklmnpqrstvwxyz\n"
     ]
    }
   ],
   "source": [
    "#program to remove vowels from the entire alphabets \n",
    "s1=\"abcdefghijklmnopqrstuvwxyz\"\n",
    "s2=[\"a\",\"e\",\"i\",\"o\",\"u\"]\n",
    "s3=[]\n",
    "for i in s1:\n",
    "    if i not in s2:\n",
    "        s3.append(i)\n",
    "s3=\"\".join(s3)\n",
    "print(s3)"
   ]
  },
  {
   "cell_type": "code",
   "execution_count": null,
   "id": "df9ecea0",
   "metadata": {},
   "outputs": [],
   "source": []
  }
 ],
 "metadata": {
  "kernelspec": {
   "display_name": "Python 3 (ipykernel)",
   "language": "python",
   "name": "python3"
  },
  "language_info": {
   "codemirror_mode": {
    "name": "ipython",
    "version": 3
   },
   "file_extension": ".py",
   "mimetype": "text/x-python",
   "name": "python",
   "nbconvert_exporter": "python",
   "pygments_lexer": "ipython3",
   "version": "3.9.13"
  }
 },
 "nbformat": 4,
 "nbformat_minor": 5
}
