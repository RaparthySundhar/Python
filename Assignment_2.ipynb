{
 "cells": [
  {
   "cell_type": "code",
   "execution_count": 2,
   "id": "947ec5ea",
   "metadata": {},
   "outputs": [
    {
     "name": "stdout",
     "output_type": "stream",
     "text": [
      "******\n",
      "*    *\n",
      "*    *\n",
      "******\n",
      "*    *\n",
      "*    *\n"
     ]
    }
   ],
   "source": [
    "a=1\n",
    "while a<=6:\n",
    "    if a==1:\n",
    "        print(\"******\")\n",
    "    elif a==2:\n",
    "        print(\"*    *\")\n",
    "    elif a==3:\n",
    "        print(\"*    *\")\n",
    "    elif a==4:\n",
    "        print(\"******\")\n",
    "    elif a==5:\n",
    "        print(\"*    *\")\n",
    "    elif a==6:\n",
    "        print(\"*    *\")\n",
    "    a+=1"
   ]
  },
  {
   "cell_type": "code",
   "execution_count": 5,
   "id": "1f6e834f",
   "metadata": {},
   "outputs": [
    {
     "name": "stdout",
     "output_type": "stream",
     "text": [
      "***** \n",
      "*    *\n",
      "*    *\n",
      "***** \n",
      "*    *\n",
      "*    *\n",
      "***** \n"
     ]
    }
   ],
   "source": [
    "a=1\n",
    "while a<=7:\n",
    "    if a==1:\n",
    "        print(\"***** \")\n",
    "    elif a==2:\n",
    "        print(\"*    *\")\n",
    "    elif a==3:\n",
    "        print(\"*    *\")\n",
    "    elif a==4:\n",
    "        print(\"***** \")\n",
    "    elif a==5:\n",
    "        print(\"*    *\")\n",
    "    elif a==6:\n",
    "        print(\"*    *\")\n",
    "    elif a==7:\n",
    "        print(\"***** \")\n",
    "    a+=1"
   ]
  },
  {
   "cell_type": "code",
   "execution_count": 11,
   "id": "dc375d77",
   "metadata": {},
   "outputs": [
    {
     "name": "stdout",
     "output_type": "stream",
     "text": [
      " *****\n",
      "*     \n",
      "*     \n",
      " *****\n"
     ]
    }
   ],
   "source": [
    "a=1\n",
    "while a<=4:\n",
    "    if a==1:\n",
    "        print(\" *****\")\n",
    "    elif a==2:\n",
    "        print(\"*     \")\n",
    "    elif a==3:\n",
    "        print(\"*     \")\n",
    "    elif a==4:\n",
    "        print(\" *****\")\n",
    "    a+=1"
   ]
  },
  {
   "cell_type": "code",
   "execution_count": 4,
   "id": "8efab942",
   "metadata": {},
   "outputs": [
    {
     "name": "stdout",
     "output_type": "stream",
     "text": [
      "*****\n",
      "*    *\n",
      "*    *\n",
      "*****\n"
     ]
    }
   ],
   "source": [
    "a=1\n",
    "while a<=4:\n",
    "    if a==1:\n",
    "        print(\"*****\")\n",
    "    elif a==2:\n",
    "        print(\"*    *\")\n",
    "    elif a==3:\n",
    "        print(\"*    *\")\n",
    "    elif a==4:\n",
    "        print(\"*****\")\n",
    "    a+=1"
   ]
  },
  {
   "cell_type": "code",
   "execution_count": 9,
   "id": "aae63cae",
   "metadata": {},
   "outputs": [
    {
     "name": "stdout",
     "output_type": "stream",
     "text": [
      "******\n",
      "*     \n",
      "******\n",
      "*     \n",
      "******\n"
     ]
    }
   ],
   "source": [
    "a=1\n",
    "while a<=5:\n",
    "    if a==1:\n",
    "        print(\"******\")\n",
    "    elif a==2:\n",
    "        print(\"*     \")\n",
    "    elif a==3:\n",
    "        print(\"******\")\n",
    "    elif a==4:\n",
    "        print(\"*     \")\n",
    "    elif a==5:\n",
    "        print(\"******\")\n",
    "    a+=1"
   ]
  },
  {
   "cell_type": "code",
   "execution_count": 10,
   "id": "7f921bcd",
   "metadata": {},
   "outputs": [
    {
     "name": "stdout",
     "output_type": "stream",
     "text": [
      "******\n",
      "*     \n",
      "******\n",
      "*     \n",
      "*\n",
      "*\n"
     ]
    }
   ],
   "source": [
    "a=1\n",
    "while a<=6:\n",
    "    if a==1:\n",
    "        print(\"******\")\n",
    "    elif a==2:\n",
    "        print(\"*     \")\n",
    "    elif a==3:\n",
    "        print(\"******\")\n",
    "    elif a==4:\n",
    "        print(\"*     \")\n",
    "    elif a==5:\n",
    "        print(\"*\")\n",
    "    elif a==6:\n",
    "        print(\"*\")\n",
    "    a+=1"
   ]
  },
  {
   "cell_type": "code",
   "execution_count": 19,
   "id": "d9a1766b",
   "metadata": {},
   "outputs": [
    {
     "name": "stdout",
     "output_type": "stream",
     "text": [
      " *****\n",
      "*     \n",
      "*     \n",
      "*    ***\n",
      " ***** *\n"
     ]
    }
   ],
   "source": [
    "a=1\n",
    "while a<=5:\n",
    "    if a==1:\n",
    "        print(\" *****\")\n",
    "    elif a==2:\n",
    "        print(\"*     \")\n",
    "    elif a==3:\n",
    "        print(\"*     \")\n",
    "    elif a==4:\n",
    "        print(\"*    ***\")\n",
    "    elif a==5:\n",
    "        print(\" ***** *\")\n",
    "    a+=1"
   ]
  },
  {
   "cell_type": "code",
   "execution_count": 14,
   "id": "2c239b20",
   "metadata": {},
   "outputs": [
    {
     "name": "stdout",
     "output_type": "stream",
     "text": [
      "*    *\n",
      "*    *\n",
      "******\n",
      "*    *\n",
      "*    *\n"
     ]
    }
   ],
   "source": [
    "a=1\n",
    "while a<=5:\n",
    "    if a==1:\n",
    "        print(\"*    *\")\n",
    "    elif a==2:\n",
    "        print(\"*    *\")\n",
    "    elif a==3:\n",
    "        print(\"******\")\n",
    "    elif a==4:\n",
    "        print(\"*    *\")\n",
    "    elif a==5:\n",
    "        print(\"*    *\")\n",
    "    a+=1"
   ]
  },
  {
   "cell_type": "code",
   "execution_count": 15,
   "id": "361f20a5",
   "metadata": {},
   "outputs": [
    {
     "name": "stdout",
     "output_type": "stream",
     "text": [
      "*******\n",
      "   *   \n",
      "   *   \n",
      "   *   \n",
      "*******\n"
     ]
    }
   ],
   "source": [
    "a=1\n",
    "while a<=5:\n",
    "    if a==1:\n",
    "        print(\"*******\")\n",
    "    elif a==2:\n",
    "        print(\"   *   \")\n",
    "    elif a==3:\n",
    "        print(\"   *   \")\n",
    "    elif a==4:\n",
    "        print(\"   *   \")\n",
    "    elif a==5:\n",
    "        print(\"*******\")\n",
    "    a+=1"
   ]
  },
  {
   "cell_type": "code",
   "execution_count": 18,
   "id": "488e9524",
   "metadata": {},
   "outputs": [
    {
     "name": "stdout",
     "output_type": "stream",
     "text": [
      "*********\n",
      "     *   \n",
      "     *   \n",
      "*    *   \n",
      " ****    \n"
     ]
    }
   ],
   "source": [
    "a=1\n",
    "while a<=5:\n",
    "    if a==1:\n",
    "        print(\"*********\")\n",
    "    elif a==2:\n",
    "        print(\"     *   \")\n",
    "    elif a==3:\n",
    "        print(\"     *   \")\n",
    "    elif a==4:\n",
    "        print(\"*    *   \")\n",
    "    elif a==5:\n",
    "        print(\" ****    \")\n",
    "    a+=1"
   ]
  },
  {
   "cell_type": "code",
   "execution_count": 20,
   "id": "ef92875c",
   "metadata": {},
   "outputs": [
    {
     "name": "stdout",
     "output_type": "stream",
     "text": [
      "*   *\n",
      "*  *\n",
      "* *\n",
      "**\n",
      "* *\n",
      "*  *\n",
      "*   *\n"
     ]
    }
   ],
   "source": [
    "a=1\n",
    "while a<=7:\n",
    "    if a==1:\n",
    "        print(\"*   *\")\n",
    "    elif a==2:\n",
    "        print(\"*  *\")\n",
    "    elif a==3:\n",
    "        print(\"* *\")\n",
    "    elif a==4:\n",
    "        print(\"**\")\n",
    "    elif a==5:\n",
    "        print(\"* *\")\n",
    "    elif a==6:\n",
    "        print(\"*  *\")\n",
    "    elif a==7:\n",
    "        print(\"*   *\")\n",
    "    a+=1"
   ]
  },
  {
   "cell_type": "code",
   "execution_count": 21,
   "id": "3bbe45fa",
   "metadata": {},
   "outputs": [
    {
     "name": "stdout",
     "output_type": "stream",
     "text": [
      "*      \n",
      "*      \n",
      "*      \n",
      "*      \n",
      "*******\n"
     ]
    }
   ],
   "source": [
    "a=1\n",
    "while a<=5:\n",
    "    if a==1:\n",
    "        print(\"*      \")\n",
    "    elif a==2:\n",
    "        print(\"*      \")\n",
    "    elif a==3:\n",
    "        print(\"*      \")\n",
    "    elif a==4:\n",
    "        print(\"*      \")\n",
    "    elif a==5:\n",
    "        print(\"*******\")\n",
    "    a+=1"
   ]
  },
  {
   "cell_type": "code",
   "execution_count": 22,
   "id": "65dbba49",
   "metadata": {},
   "outputs": [
    {
     "name": "stdout",
     "output_type": "stream",
     "text": [
      "*        *\n",
      "* *    * *\n",
      "*    *   *\n",
      "*        *\n",
      "*        *\n"
     ]
    }
   ],
   "source": [
    "a=1\n",
    "while a<=5:\n",
    "    if a==1:\n",
    "        print(\"*        *\")\n",
    "    elif a==2:\n",
    "        print(\"* *    * *\")\n",
    "    elif a==3:\n",
    "        print(\"*    *   *\")\n",
    "    elif a==4:\n",
    "        print(\"*        *\")\n",
    "    elif a==5:\n",
    "        print(\"*        *\")\n",
    "    a+=1"
   ]
  },
  {
   "cell_type": "code",
   "execution_count": 23,
   "id": "c5d0f80b",
   "metadata": {},
   "outputs": [
    {
     "name": "stdout",
     "output_type": "stream",
     "text": [
      "*         *\n",
      "* *       *\n",
      "*    *    *\n",
      "*       * *\n",
      "*         *\n"
     ]
    }
   ],
   "source": [
    "a=1\n",
    "while a<=5:\n",
    "    if a==1:\n",
    "        print(\"*         *\")\n",
    "    elif a==2:\n",
    "        print(\"* *       *\")\n",
    "    elif a==3:\n",
    "        print(\"*    *    *\")\n",
    "    elif a==4:\n",
    "        print(\"*       * *\")\n",
    "    elif a==5:\n",
    "        print(\"*         *\")\n",
    "    a+=1"
   ]
  },
  {
   "cell_type": "code",
   "execution_count": 24,
   "id": "e61a17d4",
   "metadata": {},
   "outputs": [
    {
     "name": "stdout",
     "output_type": "stream",
     "text": [
      " ***** \n",
      "*     *\n",
      "*     *\n",
      "*     *\n",
      " ***** \n"
     ]
    }
   ],
   "source": [
    "a=1\n",
    "while a<=5:\n",
    "    if a==1:\n",
    "        print(\" ***** \")\n",
    "    elif a==2:\n",
    "        print(\"*     *\")\n",
    "    elif a==3:\n",
    "        print(\"*     *\")\n",
    "    elif a==4:\n",
    "        print(\"*     *\")\n",
    "    elif a==5:\n",
    "        print(\" ***** \")\n",
    "    a+=1"
   ]
  },
  {
   "cell_type": "code",
   "execution_count": 27,
   "id": "6187cb84",
   "metadata": {},
   "outputs": [
    {
     "name": "stdout",
     "output_type": "stream",
     "text": [
      "******* \n",
      "*      *\n",
      "*      *\n",
      "******* \n",
      "*      \n",
      "*      \n",
      "*      \n"
     ]
    }
   ],
   "source": [
    "a=1\n",
    "while a<=7:\n",
    "    if a==1:\n",
    "        print(\"******* \")\n",
    "    elif a==2:\n",
    "        print(\"*      *\")\n",
    "    elif a==3:\n",
    "        print(\"*      *\")\n",
    "    elif a==4:\n",
    "        print(\"******* \")\n",
    "    if a==5:\n",
    "        print(\"*      \")\n",
    "    if a==6:\n",
    "        print(\"*      \")\n",
    "    if a==7:\n",
    "        print(\"*      \")\n",
    "    a+=1"
   ]
  },
  {
   "cell_type": "code",
   "execution_count": 26,
   "id": "b9530262",
   "metadata": {},
   "outputs": [
    {
     "name": "stdout",
     "output_type": "stream",
     "text": [
      " ******* \n",
      "*       *\n",
      "*       *\n",
      "*   *   *\n",
      "*    *  *\n",
      "*     * *\n",
      "       * \n",
      " ******* \n",
      "         *\n"
     ]
    }
   ],
   "source": [
    "a=1\n",
    "while a<=9:\n",
    "    if a==1:\n",
    "        print(\" ******* \")\n",
    "    elif a==2:\n",
    "        print(\"*       *\")\n",
    "    elif a==3:\n",
    "        print(\"*       *\")\n",
    "    elif a==4:\n",
    "        print(\"*   *   *\")\n",
    "    elif a==5:\n",
    "        print(\"*    *  *\")\n",
    "    elif a==6:\n",
    "        print(\"*     * *\")\n",
    "    elif a==7:\n",
    "        print(\"       * \")\n",
    "    elif a==8:\n",
    "        print(\" ******* \")\n",
    "    elif a==9:\n",
    "        print(\"         *\")\n",
    "    a+=1"
   ]
  },
  {
   "cell_type": "code",
   "execution_count": 28,
   "id": "cdf8c055",
   "metadata": {},
   "outputs": [
    {
     "name": "stdout",
     "output_type": "stream",
     "text": [
      "******* \n",
      "*      *\n",
      "*      *\n",
      "******* \n",
      "**      \n",
      "* *     \n",
      "*   *   \n",
      "*    *  \n"
     ]
    }
   ],
   "source": [
    "a=1\n",
    "while a<=8:\n",
    "    if a==1:\n",
    "        print(\"******* \")\n",
    "    elif a==2:\n",
    "        print(\"*      *\")\n",
    "    elif a==3:\n",
    "        print(\"*      *\")\n",
    "    elif a==4:\n",
    "        print(\"******* \")\n",
    "    elif a==5:\n",
    "        print(\"**      \")\n",
    "    elif a==6:\n",
    "        print(\"* *     \")\n",
    "    elif a==7:\n",
    "        print(\"*   *   \")\n",
    "    elif a==8:\n",
    "        print(\"*    *  \")\n",
    "    a+=1"
   ]
  },
  {
   "cell_type": "code",
   "execution_count": 29,
   "id": "2d4e12d4",
   "metadata": {},
   "outputs": [
    {
     "name": "stdout",
     "output_type": "stream",
     "text": [
      " ***** \n",
      "*      \n",
      " ***** \n",
      "      *\n",
      " ***** \n"
     ]
    }
   ],
   "source": [
    "a=1\n",
    "while a<=5:\n",
    "    if a==1:\n",
    "        print(\" ***** \")\n",
    "    elif a==2:\n",
    "        print(\"*      \")\n",
    "    elif a==3:\n",
    "        print(\" ***** \")\n",
    "    elif a==4:\n",
    "        print(\"      *\")\n",
    "    elif a==5:\n",
    "        print(\" ***** \")\n",
    "    a+=1"
   ]
  },
  {
   "cell_type": "code",
   "execution_count": 30,
   "id": "f9fd0c6a",
   "metadata": {},
   "outputs": [
    {
     "name": "stdout",
     "output_type": "stream",
     "text": [
      "*********\n",
      "    *    \n",
      "    *    \n",
      "    *    \n",
      "    *    \n"
     ]
    }
   ],
   "source": [
    "a=1\n",
    "while a<=5:\n",
    "    if a==1:\n",
    "        print(\"*********\")\n",
    "    elif a==2:\n",
    "        print(\"    *    \")\n",
    "    elif a==3:\n",
    "        print(\"    *    \")\n",
    "    elif a==4:\n",
    "        print(\"    *    \")\n",
    "    elif a==5:\n",
    "        print(\"    *    \")\n",
    "    a+=1"
   ]
  },
  {
   "cell_type": "code",
   "execution_count": 31,
   "id": "7d573888",
   "metadata": {},
   "outputs": [
    {
     "name": "stdout",
     "output_type": "stream",
     "text": [
      "*       *\n",
      "*       *\n",
      "*       *\n",
      "*       *\n",
      " ******* \n"
     ]
    }
   ],
   "source": [
    "a=1\n",
    "while a<=5:\n",
    "    if a==1:\n",
    "        print(\"*       *\")\n",
    "    elif a==2:\n",
    "        print(\"*       *\")\n",
    "    elif a==3:\n",
    "        print(\"*       *\")\n",
    "    elif a==4:\n",
    "        print(\"*       *\")\n",
    "    elif a==5:\n",
    "        print(\" ******* \")\n",
    "    a+=1"
   ]
  },
  {
   "cell_type": "code",
   "execution_count": 32,
   "id": "0fc535d4",
   "metadata": {},
   "outputs": [
    {
     "name": "stdout",
     "output_type": "stream",
     "text": [
      "*        *\n",
      " *      * \n",
      "  *    *  \n",
      "    * *   \n",
      "     *    \n"
     ]
    }
   ],
   "source": [
    "a=1\n",
    "while a<=5:\n",
    "    if a==1:\n",
    "        print(\"*        *\")\n",
    "    elif a==2:\n",
    "        print(\" *      * \")\n",
    "    elif a==3:\n",
    "        print(\"  *    *  \")\n",
    "    elif a==4:\n",
    "        print(\"    * *   \")\n",
    "    elif a==5:\n",
    "        print(\"     *    \")\n",
    "    a+=1"
   ]
  },
  {
   "cell_type": "code",
   "execution_count": 33,
   "id": "f24ac141",
   "metadata": {},
   "outputs": [
    {
     "name": "stdout",
     "output_type": "stream",
     "text": [
      "*        **        *\n",
      " *      *  *      * \n",
      "  *    *    *    *  \n",
      "    * *       * *   \n",
      "     *         *    \n"
     ]
    }
   ],
   "source": [
    "a=1\n",
    "while a<=5:\n",
    "    if a==1:\n",
    "        print(\"*        **        *\")\n",
    "    elif a==2:\n",
    "        print(\" *      *  *      * \")\n",
    "    elif a==3:\n",
    "        print(\"  *    *    *    *  \")\n",
    "    elif a==4:\n",
    "        print(\"    * *       * *   \")\n",
    "    elif a==5:\n",
    "        print(\"     *         *    \")\n",
    "    a+=1"
   ]
  },
  {
   "cell_type": "code",
   "execution_count": 3,
   "id": "63e2b025",
   "metadata": {},
   "outputs": [
    {
     "name": "stdout",
     "output_type": "stream",
     "text": [
      "*        *\n",
      " *      * \n",
      "  *    *  \n",
      "     *    \n",
      "  *    *  \n",
      " *      * \n",
      "*        *\n"
     ]
    }
   ],
   "source": [
    "a=1\n",
    "while a<=7:\n",
    "    if a==1:\n",
    "        print(\"*        *\")\n",
    "    elif a==2:\n",
    "        print(\" *      * \")\n",
    "    elif a==3:\n",
    "        print(\"  *    *  \")\n",
    "    elif a==4:\n",
    "        print(\"     *    \")\n",
    "    elif a==5:\n",
    "        print(\"  *    *  \")\n",
    "    elif a==6:\n",
    "        print(\" *      * \")\n",
    "    elif a==7:\n",
    "        print(\"*        *\")\n",
    "    a+=1"
   ]
  },
  {
   "cell_type": "code",
   "execution_count": 4,
   "id": "afcc1a98",
   "metadata": {},
   "outputs": [
    {
     "name": "stdout",
     "output_type": "stream",
     "text": [
      "*        *\n",
      " *      * \n",
      "  *    *  \n",
      "     *    \n",
      "     *    \n",
      "     *    \n",
      "     *    \n"
     ]
    }
   ],
   "source": [
    "a=1\n",
    "while a<=7:\n",
    "    if a==1:\n",
    "        print(\"*        *\")\n",
    "    elif a==2:\n",
    "        print(\" *      * \")\n",
    "    elif a==3:\n",
    "        print(\"  *    *  \")\n",
    "    elif a==4:\n",
    "        print(\"     *    \")\n",
    "    elif a==5:\n",
    "        print(\"     *    \")\n",
    "    elif a==6:\n",
    "        print(\"     *    \")\n",
    "    elif a==7:\n",
    "        print(\"     *    \")\n",
    "    a+=1"
   ]
  },
  {
   "cell_type": "code",
   "execution_count": 5,
   "id": "9d0ecc3c",
   "metadata": {},
   "outputs": [
    {
     "name": "stdout",
     "output_type": "stream",
     "text": [
      "**********\n",
      "         *\n",
      "       *  \n",
      "     *    \n",
      "   *      \n",
      " *        \n",
      "**********\n"
     ]
    }
   ],
   "source": [
    "a=1\n",
    "while a<=7:\n",
    "    if a==1:\n",
    "        print(\"**********\")\n",
    "    elif a==2:\n",
    "        print(\"         *\")\n",
    "    elif a==3:\n",
    "        print(\"       *  \")\n",
    "    elif a==4:\n",
    "        print(\"     *    \")\n",
    "    elif a==5:\n",
    "        print(\"   *      \")\n",
    "    elif a==6:\n",
    "        print(\" *        \")\n",
    "    elif a==7:\n",
    "        print(\"**********\")\n",
    "    a+=1"
   ]
  },
  {
   "cell_type": "code",
   "execution_count": null,
   "id": "5590a61c",
   "metadata": {},
   "outputs": [],
   "source": []
  }
 ],
 "metadata": {
  "kernelspec": {
   "display_name": "Python 3 (ipykernel)",
   "language": "python",
   "name": "python3"
  },
  "language_info": {
   "codemirror_mode": {
    "name": "ipython",
    "version": 3
   },
   "file_extension": ".py",
   "mimetype": "text/x-python",
   "name": "python",
   "nbconvert_exporter": "python",
   "pygments_lexer": "ipython3",
   "version": "3.9.13"
  }
 },
 "nbformat": 4,
 "nbformat_minor": 5
}
